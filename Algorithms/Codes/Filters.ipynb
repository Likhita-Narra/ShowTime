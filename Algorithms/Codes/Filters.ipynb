{
 "cells": [
  {
   "cell_type": "code",
   "execution_count": 1,
   "metadata": {},
   "outputs": [],
   "source": [
    "import numpy as np\n",
    "import pandas as pd\n",
    "import ast #To convert string to list\n",
    "import pickle\n",
    "import requests\n",
    "from iso639 import languages\n",
    "from datetime import datetime\n",
    "from datetime import date"
   ]
  },
  {
   "cell_type": "code",
   "execution_count": 2,
   "metadata": {},
   "outputs": [],
   "source": [
    "movies = pd.read_csv('../Datasets/tmdb_5000_movies.csv')\n",
    "credits = pd.read_csv(\"../Datasets/tmdb_5000_credits.csv\")\n",
    "credits.rename(columns = {'movie_id':'id'}, inplace = True)\n",
    "movies = movies.merge(credits, on='id')\n",
    "movies.rename(columns = {'title_x':'title'}, inplace = True)\n",
    "movies = movies[['id', 'title', 'popularity', 'overview', 'genres', 'release_date','vote_average', 'original_language','cast', 'crew']]"
   ]
  },
  {
   "cell_type": "code",
   "execution_count": 3,
   "metadata": {},
   "outputs": [
    {
     "name": "stdout",
     "output_type": "stream",
     "text": [
      "id                   0\n",
      "title                0\n",
      "popularity           0\n",
      "overview             3\n",
      "genres               0\n",
      "release_date         1\n",
      "vote_average         0\n",
      "original_language    0\n",
      "cast                 0\n",
      "crew                 0\n",
      "dtype: int64\n"
     ]
    }
   ],
   "source": [
    "print(movies.isnull().sum())"
   ]
  },
  {
   "cell_type": "code",
   "execution_count": 4,
   "metadata": {},
   "outputs": [
    {
     "name": "stdout",
     "output_type": "stream",
     "text": [
      "Null overviews: \n",
      "Movie Id: 292539 Movie Title: Food Chains\n",
      "Movie Id: 370980 Movie Title: Chiamatemi Francesco - Il Papa della gente\n",
      "Movie Id: 459488 Movie Title: To Be Frank, Sinatra at 100\n",
      "Null release dates: \n",
      "Movie Id: 380097 Movie Title: America Is Still the Place\n"
     ]
    }
   ],
   "source": [
    "def find_null(attribute):\n",
    "    null_attributes = movies.index[movies[attribute].isnull()]\n",
    "    for i in null_attributes:\n",
    "        print(f\"Movie Id: {movies['id'][i]} Movie Title: {movies['title'][i]}\")\n",
    "print(\"Null overviews: \")\n",
    "find_null('overview')\n",
    "print(\"Null release dates: \")\n",
    "find_null('release_date')"
   ]
  },
  {
   "cell_type": "code",
   "execution_count": 5,
   "metadata": {},
   "outputs": [
    {
     "name": "stderr",
     "output_type": "stream",
     "text": [
      "C:\\Users\\likhita\\anaconda3\\lib\\site-packages\\pandas\\core\\indexing.py:670: SettingWithCopyWarning: \n",
      "A value is trying to be set on a copy of a slice from a DataFrame\n",
      "\n",
      "See the caveats in the documentation: https://pandas.pydata.org/pandas-docs/stable/user_guide/indexing.html#returning-a-view-versus-a-copy\n",
      "  iloc._setitem_with_indexer(indexer, value)\n",
      "<ipython-input-5-6602d17e3a00>:3: SettingWithCopyWarning: \n",
      "A value is trying to be set on a copy of a slice from a DataFrame\n",
      "\n",
      "See the caveats in the documentation: https://pandas.pydata.org/pandas-docs/stable/user_guide/indexing.html#returning-a-view-versus-a-copy\n",
      "  movies['overview'][movies.index[movies['id'] == 459488]] = 'An exploration of how singer and actor Frank Sinatra became one of the biggest stars of the 20th century while remaining, in his heart, a normal person.'\n",
      "C:\\Users\\likhita\\anaconda3\\lib\\site-packages\\pandas\\core\\indexing.py:670: SettingWithCopyWarning: \n",
      "A value is trying to be set on a copy of a slice from a DataFrame\n",
      "\n",
      "See the caveats in the documentation: https://pandas.pydata.org/pandas-docs/stable/user_guide/indexing.html#returning-a-view-versus-a-copy\n",
      "  iloc._setitem_with_indexer(indexer, value)\n",
      "<ipython-input-5-6602d17e3a00>:4: SettingWithCopyWarning: \n",
      "A value is trying to be set on a copy of a slice from a DataFrame\n",
      "\n",
      "See the caveats in the documentation: https://pandas.pydata.org/pandas-docs/stable/user_guide/indexing.html#returning-a-view-versus-a-copy\n",
      "  movies['overview'][movies.index[movies['id'] == 292539]] = 'To protest their working conditions and poor wages, farmworkers in Immokalee, Florida, start a hunger strike outside the headquarters of Publix supermarkets.'\n",
      "C:\\Users\\likhita\\anaconda3\\lib\\site-packages\\pandas\\core\\indexing.py:670: SettingWithCopyWarning: \n",
      "A value is trying to be set on a copy of a slice from a DataFrame\n",
      "\n",
      "See the caveats in the documentation: https://pandas.pydata.org/pandas-docs/stable/user_guide/indexing.html#returning-a-view-versus-a-copy\n",
      "  iloc._setitem_with_indexer(indexer, value)\n"
     ]
    }
   ],
   "source": [
    "#Data collected from IMDb\n",
    "movies['overview'][movies.index[movies['id'] == 370980]] = 'Following the rise of father Jorge Mario Bergoglio from his early life as a teacher in a Jesuit High School in Argentina, to archbishop and cardinal of Buenos Aires, until he was elected Pope of the Roman Catholic Church.'\n",
    "movies['overview'][movies.index[movies['id'] == 459488]] = 'An exploration of how singer and actor Frank Sinatra became one of the biggest stars of the 20th century while remaining, in his heart, a normal person.'\n",
    "movies['overview'][movies.index[movies['id'] == 292539]] = 'To protest their working conditions and poor wages, farmworkers in Immokalee, Florida, start a hunger strike outside the headquarters of Publix supermarkets.'\n",
    "movies['title'].loc[movies['id'] == 380097] = \"I’m Charlie Walker\"\n",
    "movies['release_date'].loc[movies['id'] == 380097] = '10-06-2022'\n",
    "movies.dropna(inplace = True)"
   ]
  },
  {
   "cell_type": "code",
   "execution_count": 6,
   "metadata": {},
   "outputs": [
    {
     "name": "stdout",
     "output_type": "stream",
     "text": [
      "None\n",
      "0\n",
      "id                   0\n",
      "title                0\n",
      "popularity           0\n",
      "overview             0\n",
      "genres               0\n",
      "release_date         0\n",
      "vote_average         0\n",
      "original_language    0\n",
      "cast                 0\n",
      "crew                 0\n",
      "dtype: int64\n"
     ]
    }
   ],
   "source": [
    "print(movies.dropna(inplace = True))\n",
    "print(movies.duplicated().sum())\n",
    "print(movies.isnull().sum())"
   ]
  },
  {
   "cell_type": "code",
   "execution_count": 7,
   "metadata": {},
   "outputs": [
    {
     "name": "stderr",
     "output_type": "stream",
     "text": [
      "C:\\Users\\likhita\\anaconda3\\lib\\site-packages\\pandas\\core\\indexing.py:670: SettingWithCopyWarning: \n",
      "A value is trying to be set on a copy of a slice from a DataFrame\n",
      "\n",
      "See the caveats in the documentation: https://pandas.pydata.org/pandas-docs/stable/user_guide/indexing.html#returning-a-view-versus-a-copy\n",
      "  iloc._setitem_with_indexer(indexer, value)\n"
     ]
    }
   ],
   "source": [
    "for i in range(0, len(movies['release_date'])):\n",
    "    string = movies['release_date'].iloc[i]\n",
    "    movies['release_date'].iloc[i] = datetime.strptime(string, '%d-%m-%Y').year\n",
    "    \n",
    "movies.rename(columns = {'release_date':'year'}, inplace=True)"
   ]
  },
  {
   "cell_type": "code",
   "execution_count": 8,
   "metadata": {},
   "outputs": [],
   "source": [
    "movies['original_language'] = movies['original_language'].apply(lambda x: languages.get(alpha2=x).name.lower())"
   ]
  },
  {
   "cell_type": "code",
   "execution_count": 9,
   "metadata": {},
   "outputs": [],
   "source": [
    "#To convert strings with ids and genre names/keywords to lists of genres/keywords\n",
    "def convert(obj):\n",
    "    L = []\n",
    "    for i in ast.literal_eval(obj):\n",
    "        L.append(i['name'])\n",
    "    return L\n",
    "\n",
    "#To fetch the names of top 10 cast of a movie\n",
    "def convert_trim(obj):\n",
    "    L = []\n",
    "    counter = 0\n",
    "    for i in ast.literal_eval(obj):\n",
    "        if counter != 5:\n",
    "            L.append(i['name'].lower())\n",
    "            counter += 1\n",
    "        else:\n",
    "            break\n",
    "    return L\n",
    "\n",
    "#To fetch the name of the director of a movie\n",
    "def fetch_director(obj):\n",
    "    L = []\n",
    "    for i in ast.literal_eval(obj):\n",
    "        if i['job'] == 'Director':\n",
    "            L.append(i['name'].lower())\n",
    "            break\n",
    "    return ''.join(L)"
   ]
  },
  {
   "cell_type": "code",
   "execution_count": 10,
   "metadata": {},
   "outputs": [],
   "source": [
    "movies['genres'] = movies['genres'].apply(convert)\n",
    "movies['cast'] = movies['cast'].apply(convert_trim)\n",
    "movies['crew'] = movies['crew'].apply(fetch_director)"
   ]
  },
  {
   "cell_type": "code",
   "execution_count": 11,
   "metadata": {},
   "outputs": [
    {
     "name": "stdout",
     "output_type": "stream",
     "text": [
      "Memory usage before optimization: 419408\n",
      "Memory after after optimization: 333620\n"
     ]
    }
   ],
   "source": [
    "print(f\"Memory usage before optimization: {movies.memory_usage().sum()}\")\n",
    "movies['id'] = movies['id'].astype('uint32')\n",
    "movies['year'] = movies['year'].astype('uint16')\n",
    "movies['vote_average'] = movies['vote_average'].astype('float32')\n",
    "movies['popularity'] = movies['popularity'].astype('float32')\n",
    "print(f\"Memory after after optimization: {movies.memory_usage().sum()}\")"
   ]
  },
  {
   "cell_type": "code",
   "execution_count": 12,
   "metadata": {},
   "outputs": [],
   "source": [
    "pickle.dump(movies.to_dict(), open('movie_dict.pkl', 'wb'))"
   ]
  }
 ],
 "metadata": {
  "kernelspec": {
   "display_name": "Python 3",
   "language": "python",
   "name": "python3"
  },
  "language_info": {
   "codemirror_mode": {
    "name": "ipython",
    "version": 3
   },
   "file_extension": ".py",
   "mimetype": "text/x-python",
   "name": "python",
   "nbconvert_exporter": "python",
   "pygments_lexer": "ipython3",
   "version": "3.8.5"
  }
 },
 "nbformat": 4,
 "nbformat_minor": 4
}
